{
 "cells": [
  {
   "cell_type": "code",
   "execution_count": 17,
   "id": "ac4c7f42-111e-48c1-a4ab-bd098a5132dc",
   "metadata": {},
   "outputs": [
    {
     "data": {
      "text/plain": [
       "'Write a python program that, given an input list of any level of complexity/nestedness, will return the inner most list plus 1. This is to be done with a while loop. Note: the input will contain only integers or lists. \\nAs an example:\\n\\ninput_list = [1,2,3,4,[5,6,7,[8,9]]]\\n\\nyour_py_program.py input_list\\n\\nwill produce:\\n\\n[9,10]\\n\\nThat is [8, 9] (the inner most list) plus 1 -> [9, 10]'"
      ]
     },
     "execution_count": 17,
     "metadata": {},
     "output_type": "execute_result"
    }
   ],
   "source": [
    "\"\"\"Write a python program that, given an input list of any level of complexity/nestedness, will return the inner most list plus 1. This is to be done with a while loop. Note: the input will contain only integers or lists. \n",
    "As an example:\n",
    "\n",
    "input_list = [1,2,3,4,[5,6,7,[8,9]]]\n",
    "\n",
    "your_py_program.py input_list\n",
    "\n",
    "will produce:\n",
    "\n",
    "[9,10]\n",
    "\n",
    "That is [8, 9] (the inner most list) plus 1 -> [9, 10]\"\"\""
   ]
  },
  {
   "cell_type": "code",
   "execution_count": 136,
   "id": "4e12dc50-ce3d-4d86-a501-40eafca462bc",
   "metadata": {},
   "outputs": [],
   "source": [
    "input_list = [1,2,3,4,[5,6,7,[8,9]]]\n",
    "def while_inner_plus(input_list):\n",
    "    the_list = input_list\n",
    "    i = 0\n",
    "    while True:\n",
    "        if type(the_list[i]) == list:\n",
    "            the_list = the_list[i]\n",
    "            i = 0\n",
    "        else:\n",
    "            i += 1\n",
    "        \n",
    "        if all(type(item) != list for item in the_list):\n",
    "            break\n",
    "    \n",
    "    return [x + 1 for x in the_list]"
   ]
  },
  {
   "cell_type": "code",
   "execution_count": 138,
   "id": "73f3121c-50f2-4883-83af-4113bea81508",
   "metadata": {},
   "outputs": [
    {
     "data": {
      "text/plain": [
       "[9, 10]"
      ]
     },
     "execution_count": 138,
     "metadata": {},
     "output_type": "execute_result"
    }
   ],
   "source": [
    "while_inner_plus(input_list)"
   ]
  }
 ],
 "metadata": {
  "kernelspec": {
   "display_name": "Python 3 (ipykernel)",
   "language": "python",
   "name": "python3"
  },
  "language_info": {
   "codemirror_mode": {
    "name": "ipython",
    "version": 3
   },
   "file_extension": ".py",
   "mimetype": "text/x-python",
   "name": "python",
   "nbconvert_exporter": "python",
   "pygments_lexer": "ipython3",
   "version": "3.12.4"
  }
 },
 "nbformat": 4,
 "nbformat_minor": 5
}
