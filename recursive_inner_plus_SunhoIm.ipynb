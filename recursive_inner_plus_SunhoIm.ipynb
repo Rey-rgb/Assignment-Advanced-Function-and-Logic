{
 "cells": [
  {
   "cell_type": "code",
   "execution_count": 1,
   "id": "b41b9656-ac0d-45c5-8734-4bcf95e6c33a",
   "metadata": {},
   "outputs": [
    {
     "data": {
      "text/plain": [
       "'Write the a python program that, given an input list of any level of complexity/nestedness, \\nwill return the inner most list plus 1. \\nThis is to be done with recursion. \\nNote: the input will contain only integers or lists. '"
      ]
     },
     "execution_count": 1,
     "metadata": {},
     "output_type": "execute_result"
    }
   ],
   "source": [
    "\"\"\"Write the a python program that, given an input list of any level of complexity/nestedness, \n",
    "will return the inner most list plus 1. \n",
    "This is to be done with recursion. \n",
    "Note: the input will contain only integers or lists. \"\"\""
   ]
  },
  {
   "cell_type": "code",
   "execution_count": 3,
   "id": "d124872a-620e-4ec7-a630-442853539d41",
   "metadata": {},
   "outputs": [],
   "source": [
    "input_list = [1,2,3,4,[5,6,7,[8,9]]]\n",
    "\n",
    "def recursive_inner_plus(input_list):\n",
    "    i = 0    # Base case: if there are no more lists inside, return the current list\n",
    "    for i in input_list:\n",
    "        if isinstance(i, list):\n",
    "            # Recursive case: dive deeper into the nested list\n",
    "            return recursive_inner_plus(i)\n",
    "    \n",
    "    # Once the innermost list is reached, increment each element by 1\n",
    "    return [x + 1 for x in input_list]"
   ]
  },
  {
   "cell_type": "code",
   "execution_count": 5,
   "id": "32fce706-3a4f-4649-8ffa-6085d246b963",
   "metadata": {},
   "outputs": [
    {
     "data": {
      "text/plain": [
       "[9, 10]"
      ]
     },
     "execution_count": 5,
     "metadata": {},
     "output_type": "execute_result"
    }
   ],
   "source": [
    "recursive_inner_plus(input_list)"
   ]
  }
 ],
 "metadata": {
  "kernelspec": {
   "display_name": "Python 3 (ipykernel)",
   "language": "python",
   "name": "python3"
  },
  "language_info": {
   "codemirror_mode": {
    "name": "ipython",
    "version": 3
   },
   "file_extension": ".py",
   "mimetype": "text/x-python",
   "name": "python",
   "nbconvert_exporter": "python",
   "pygments_lexer": "ipython3",
   "version": "3.12.4"
  }
 },
 "nbformat": 4,
 "nbformat_minor": 5
}
