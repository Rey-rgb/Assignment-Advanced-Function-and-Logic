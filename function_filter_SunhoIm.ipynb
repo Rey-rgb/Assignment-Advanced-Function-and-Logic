{
 "cells": [
  {
   "cell_type": "code",
   "execution_count": 1,
   "id": "4c82d50b-67e1-402a-98b2-4d038ed142fe",
   "metadata": {},
   "outputs": [
    {
     "data": {
      "text/plain": [
       "'Write a python program that, given an input list, will filter the input above a user defined threshold. \\nThis is to be done with a standard function.\\nThat is, given a list [1,2,3,4,5,6,7,8,9], and an argument (6), it should return [1,2,3,4,5,6]'"
      ]
     },
     "execution_count": 1,
     "metadata": {},
     "output_type": "execute_result"
    }
   ],
   "source": [
    "\"\"\"Write a python program that, given an input list, will filter the input above a user defined threshold. \n",
    "This is to be done with a standard function.\n",
    "That is, given a list [1,2,3,4,5,6,7,8,9], and an argument (6), it should return [1,2,3,4,5,6]\"\"\""
   ]
  },
  {
   "cell_type": "code",
   "execution_count": 5,
   "id": "112df8a1-48ed-4dfd-b02f-0be3cfc5bb3c",
   "metadata": {},
   "outputs": [],
   "source": [
    "#input_list = [1,2,3,4,[5,6,7,[8,9]],7,8,9,10]\n",
    "input_list = [1,2,3,4,5,6,7,8,9]\n",
    "\n",
    "def function_filter(input_list, threshold):\n",
    "    filtered_list = [input_list[x] for x in range(len(input_list)) if x < threshold]\n",
    "    \n",
    "    return filtered_list"
   ]
  },
  {
   "cell_type": "code",
   "execution_count": 7,
   "id": "ab450c1d-e674-40c6-80a8-dab72b743e96",
   "metadata": {},
   "outputs": [
    {
     "data": {
      "text/plain": [
       "[1, 2, 3, 4, 5, 6]"
      ]
     },
     "execution_count": 7,
     "metadata": {},
     "output_type": "execute_result"
    }
   ],
   "source": [
    "function_filter(input_list, 6)"
   ]
  }
 ],
 "metadata": {
  "kernelspec": {
   "display_name": "Python 3 (ipykernel)",
   "language": "python",
   "name": "python3"
  },
  "language_info": {
   "codemirror_mode": {
    "name": "ipython",
    "version": 3
   },
   "file_extension": ".py",
   "mimetype": "text/x-python",
   "name": "python",
   "nbconvert_exporter": "python",
   "pygments_lexer": "ipython3",
   "version": "3.12.4"
  }
 },
 "nbformat": 4,
 "nbformat_minor": 5
}
